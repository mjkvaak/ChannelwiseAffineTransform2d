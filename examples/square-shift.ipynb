{
 "cells": [
  {
   "cell_type": "markdown",
   "id": "be0eaa21-e925-46d0-b8e5-dae0768d8df3",
   "metadata": {},
   "source": [
    "## Imports"
   ]
  },
  {
   "cell_type": "code",
   "execution_count": 1,
   "id": "7453f502",
   "metadata": {},
   "outputs": [],
   "source": [
    "import matplotlib.pyplot as plt\n",
    "from tqdm.auto import tqdm\n",
    "\n",
    "import torch\n",
    "from torch import nn\n",
    "from torch.nn import functional as F\n",
    "import torch.optim as optim\n",
    "\n",
    "import einops\n"
   ]
  },
  {
   "cell_type": "code",
   "execution_count": 2,
   "id": "5cb64187-18f0-46de-bb55-91d4d2ad4ea5",
   "metadata": {},
   "outputs": [],
   "source": [
    "import sys\n",
    "sys.path.append(\"..\")\n",
    "from affine import ChannelwiseAffineTransform2d"
   ]
  },
  {
   "cell_type": "code",
   "execution_count": null,
   "id": "a0a927fd-e0c4-4e71-80f7-5cd7e942d56a",
   "metadata": {},
   "outputs": [],
   "source": []
  },
  {
   "cell_type": "markdown",
   "id": "f2d24ee7-1947-4372-b615-26d45645733e",
   "metadata": {},
   "source": [
    "## ChannelwiseAffineTransform2d"
   ]
  },
  {
   "cell_type": "markdown",
   "id": "9cc6b48d-c179-48ca-a1c9-574ce9501e23",
   "metadata": {},
   "source": [
    "Quick demo of the stand-alone affine layer \n",
    "and how it affects the inputs in the initial random initialization"
   ]
  },
  {
   "cell_type": "code",
   "execution_count": 3,
   "id": "f4858756",
   "metadata": {},
   "outputs": [
    {
     "data": {
      "text/plain": [
       "ChannelwiseAffineTransform2d(\n",
       "  (grid): Sequential(\n",
       "    (0): Conv2d(3, 1, kernel_size=(3, 3), stride=(1, 1), padding=same)\n",
       "    (1): Mish()\n",
       "    (2): Conv2d(1, 2, kernel_size=(3, 3), stride=(1, 1), padding=same)\n",
       "  )\n",
       ")"
      ]
     },
     "execution_count": 3,
     "metadata": {},
     "output_type": "execute_result"
    }
   ],
   "source": [
    "aff = ChannelwiseAffineTransform2d(num_channels=1)\n",
    "aff"
   ]
  },
  {
   "cell_type": "code",
   "execution_count": 4,
   "id": "d451409f-b2cd-41c0-8409-532696c8566d",
   "metadata": {},
   "outputs": [
    {
     "name": "stderr",
     "output_type": "stream",
     "text": [
      "/home/mikko/miniconda3/envs/affine/lib/python3.10/site-packages/torch/nn/functional.py:4358: UserWarning: Default grid_sample and affine_grid behavior has changed to align_corners=False since 1.3.0. Please specify align_corners=True if the old behavior is desired. See the documentation of grid_sample for details.\n",
      "  warnings.warn(\n"
     ]
    },
    {
     "data": {
      "image/png": "[encoded data removed]",
      "text/plain": [
       "<Figure size 640x480 with 2 Axes>"
      ]
     },
     "metadata": {},
     "output_type": "display_data"
    }
   ],
   "source": [
    "x_in = torch.zeros(1, 1, 20, 20)\n",
    "x_in[..., :10, :10] = 1.\n",
    "\n",
    "with torch.inference_mode():\n",
    "    x_out = aff(x_in)\n",
    "    \n",
    "plt.subplot(121)\n",
    "plt.imshow(x_in.sum(1)[0].cpu())\n",
    "plt.title(\"input\")\n",
    "plt.subplot(122)\n",
    "plt.imshow(x_out.sum(1)[0].cpu())\n",
    "plt.title(\"output\")\n",
    "plt.show()"
   ]
  },
  {
   "cell_type": "code",
   "execution_count": null,
   "id": "4e0f3207-72bd-4361-8917-714dd661aea6",
   "metadata": {},
   "outputs": [],
   "source": []
  },
  {
   "cell_type": "markdown",
   "id": "64c26454-095d-4812-8147-7af1719f9a20",
   "metadata": {},
   "source": [
    "## Using as part of a model"
   ]
  },
  {
   "cell_type": "markdown",
   "id": "ebfe976f-55bb-482f-8e51-9f3c80b8dc91",
   "metadata": {},
   "source": [
    "This section demonstrates how to use the affine layer as part of a model.\n",
    "\n",
    "More specifically, we showcase the capacity of the layer in a task, \n",
    "where the model has to move a square its face length to right and down in an image.\n",
    "We also compare the performance to \"Conv2dsOnly\" model, which has all the equal parameters - plus some more.\n",
    "\n",
    "The models are very shallow, so it is clear, that the \"Conv2dsOnly\" cannot perform well: \n",
    "the 3x Conv2d layers with kernel sizes (3,3) are simply not enough to solve the task. "
   ]
  },
  {
   "cell_type": "code",
   "execution_count": null,
   "id": "af25769a-0627-4b26-9092-ea205a8bcc55",
   "metadata": {},
   "outputs": [],
   "source": []
  },
  {
   "cell_type": "markdown",
   "id": "30dfc4cc-0a4c-4e02-b4ad-824ff99bef41",
   "metadata": {},
   "source": [
    "### Define a simple model"
   ]
  },
  {
   "cell_type": "code",
   "execution_count": 5,
   "id": "62f77f45-f13b-43e4-adaa-f1341fd16a6a",
   "metadata": {},
   "outputs": [],
   "source": [
    "# we copy the Conv2ds from ChannelwiseAffineTransform2d\n",
    "class Conv2dsOnly(ChannelwiseAffineTransform2d):\n",
    "    def __init__(\n",
    "            self,\n",
    "            num_channels,\n",
    "    ):\n",
    "        super().__init__(num_channels=num_channels)\n",
    "        self.out = nn.Conv2d(\n",
    "                num_channels * 2,\n",
    "                num_channels,\n",
    "                kernel_size=3,\n",
    "                padding=\"same\"\n",
    "            )\n",
    "        \n",
    "    def forward(self, x):\n",
    "        b, c, h, w = x.size()\n",
    "        pos = self.create_pos_encoding(x)\n",
    "        grid = self.grid(torch.cat([x, pos], 1))\n",
    "        out = self.out(grid)\n",
    "        return out"
   ]
  },
  {
   "cell_type": "code",
   "execution_count": 6,
   "id": "c44715b5",
   "metadata": {},
   "outputs": [],
   "source": [
    "class SimpleModel(nn.Module):\n",
    "    def __init__(\n",
    "            self,\n",
    "            in_channels = 1,\n",
    "            hidden_channels = 32,\n",
    "            affine = True\n",
    "    ):\n",
    "        super().__init__()\n",
    "        self.affine = nn.Sequential(\n",
    "            nn.Conv2d(in_channels, hidden_channels, 1),\n",
    "            ChannelwiseAffineTransform2d(hidden_channels) if affine else Conv2dsOnly(hidden_channels),\n",
    "            nn.Conv2d(hidden_channels, in_channels, 1),\n",
    "        )\n",
    "        \n",
    "    def forward(self, x):\n",
    "        x = self.affine(x)\n",
    "        x = torch.sigmoid(x)\n",
    "        return x"
   ]
  },
  {
   "cell_type": "code",
   "execution_count": null,
   "id": "8d401f22-7076-4ff1-8e38-684365725700",
   "metadata": {},
   "outputs": [],
   "source": []
  },
  {
   "cell_type": "markdown",
   "id": "ca2ccebe-e237-4779-90b7-2d3c1e7f8ea8",
   "metadata": {},
   "source": [
    "### Define dataset"
   ]
  },
  {
   "cell_type": "markdown",
   "id": "16401b71-2916-4fc3-8a36-353aefa1117e",
   "metadata": {},
   "source": [
    "The dataset creates a background image of size 20x20 with all-zeroed pixels\n",
    "and adds a random-sized square with all-ones to the top-left corner: this is the model's input.\n",
    "\n",
    "The target is an image, where the square is moved 1x its face length to the right and down."
   ]
  },
  {
   "cell_type": "code",
   "execution_count": 7,
   "id": "1ae69efb",
   "metadata": {},
   "outputs": [],
   "source": [
    "from torch.utils.data import Dataset, DataLoader\n",
    "import random\n",
    "\n",
    "class SquareShiftDataset(Dataset):\n",
    "    def __init__(self, size=20, length=10000):\n",
    "        self.size = size\n",
    "        self.length = length\n",
    "\n",
    "    def __len__(self):\n",
    "        return self.length\n",
    "\n",
    "    def __getitem__(self, idx):\n",
    "        x_in = torch.zeros(1, self.size, self.size)\n",
    "        x_out = torch.zeros_like(x_in)\n",
    "        square_size = random.randint(2, self.size // 4)\n",
    "        x0, y0 = torch.randint(0, self.size-square_size * 2, (2, ))\n",
    "        x_in[..., y0:y0+square_size, x0:x0+square_size] = 1.\n",
    "        x_out[..., y0+square_size: y0+square_size*2:, x0+square_size: x0+square_size*2] = 1.\n",
    "\n",
    "        return x_in, x_out"
   ]
  },
  {
   "cell_type": "code",
   "execution_count": null,
   "id": "02e67424-0d2f-45a4-829d-2db161cc0ca8",
   "metadata": {},
   "outputs": [],
   "source": []
  },
  {
   "cell_type": "markdown",
   "id": "a6158903-329e-4660-8c21-d92eef69d43f",
   "metadata": {},
   "source": [
    "### Train"
   ]
  },
  {
   "cell_type": "code",
   "execution_count": 8,
   "id": "51d2dc6f-38f2-4678-b633-1c4b103cd5e7",
   "metadata": {},
   "outputs": [],
   "source": [
    "# Initialize dataset and dataloader\n",
    "dataset = SquareShiftDataset()\n",
    "dataloader = DataLoader(dataset, batch_size=32, shuffle=True)"
   ]
  },
  {
   "cell_type": "code",
   "execution_count": 9,
   "id": "0b447338-3530-4a3d-b52b-62b43ef0bb06",
   "metadata": {},
   "outputs": [],
   "source": [
    "# Initialize model\n",
    "model = SimpleModel()\n",
    "no_aff_model = SimpleModel(affine=False)\n",
    "if torch.cuda.is_available():\n",
    "    model.cuda()\n",
    "    no_aff_model.cuda()"
   ]
  },
  {
   "cell_type": "code",
   "execution_count": 10,
   "id": "fb486082-9c13-475c-ae04-ecdc31aafe33",
   "metadata": {},
   "outputs": [],
   "source": [
    "# Loss and optimizer\n",
    "criterion = nn.MSELoss()\n",
    "optimizer = optim.Adam(model.parameters(), lr=1e-3)\n",
    "no_aff_optimizer = optim.Adam(no_aff_model.parameters(), lr=1e-3)"
   ]
  },
  {
   "cell_type": "code",
   "execution_count": 11,
   "id": "634dedf6",
   "metadata": {},
   "outputs": [
    {
     "data": {
      "application/vnd.jupyter.widget-view+json": {
       "model_id": "6e159a481bc74c809c1c660267164b6d",
       "version_major": 2,
       "version_minor": 0
      },
      "text/plain": [
       "  0%|          | 0/313 [00:00<?, ?batch/s]"
      ]
     },
     "metadata": {},
     "output_type": "display_data"
    },
    {
     "data": {
      "application/vnd.jupyter.widget-view+json": {
       "model_id": "a01370a9014d4e6ebddf09d8347dbc21",
       "version_major": 2,
       "version_minor": 0
      },
      "text/plain": [
       "  0%|          | 0/313 [00:00<?, ?batch/s]"
      ]
     },
     "metadata": {},
     "output_type": "display_data"
    },
    {
     "data": {
      "application/vnd.jupyter.widget-view+json": {
       "model_id": "b8969e70b0a843abb65a9ca4799b6b50",
       "version_major": 2,
       "version_minor": 0
      },
      "text/plain": [
       "  0%|          | 0/313 [00:00<?, ?batch/s]"
      ]
     },
     "metadata": {},
     "output_type": "display_data"
    },
    {
     "data": {
      "application/vnd.jupyter.widget-view+json": {
       "model_id": "ea17519c410c47c7bd108aae0285195d",
       "version_major": 2,
       "version_minor": 0
      },
      "text/plain": [
       "  0%|          | 0/313 [00:00<?, ?batch/s]"
      ]
     },
     "metadata": {},
     "output_type": "display_data"
    },
    {
     "data": {
      "application/vnd.jupyter.widget-view+json": {
       "model_id": "87b84accb7b644ce92a84349fce373dd",
       "version_major": 2,
       "version_minor": 0
      },
      "text/plain": [
       "  0%|          | 0/313 [00:00<?, ?batch/s]"
      ]
     },
     "metadata": {},
     "output_type": "display_data"
    },
    {
     "data": {
      "application/vnd.jupyter.widget-view+json": {
       "model_id": "b0c687b45674465e89b2564fa052be7b",
       "version_major": 2,
       "version_minor": 0
      },
      "text/plain": [
       "  0%|          | 0/313 [00:00<?, ?batch/s]"
      ]
     },
     "metadata": {},
     "output_type": "display_data"
    },
    {
     "data": {
      "application/vnd.jupyter.widget-view+json": {
       "model_id": "55b485d43a7749b78e63aca501f3cc52",
       "version_major": 2,
       "version_minor": 0
      },
      "text/plain": [
       "  0%|          | 0/313 [00:00<?, ?batch/s]"
      ]
     },
     "metadata": {},
     "output_type": "display_data"
    },
    {
     "data": {
      "application/vnd.jupyter.widget-view+json": {
       "model_id": "3bcece2f95b2440f850320f1af9c9844",
       "version_major": 2,
       "version_minor": 0
      },
      "text/plain": [
       "  0%|          | 0/313 [00:00<?, ?batch/s]"
      ]
     },
     "metadata": {},
     "output_type": "display_data"
    },
    {
     "data": {
      "application/vnd.jupyter.widget-view+json": {
       "model_id": "e46700b8773946bbb74ecd5ee6eab80d",
       "version_major": 2,
       "version_minor": 0
      },
      "text/plain": [
       "  0%|          | 0/313 [00:00<?, ?batch/s]"
      ]
     },
     "metadata": {},
     "output_type": "display_data"
    },
    {
     "data": {
      "application/vnd.jupyter.widget-view+json": {
       "model_id": "c54598abc73a4b8ca768643c8709019e",
       "version_major": 2,
       "version_minor": 0
      },
      "text/plain": [
       "  0%|          | 0/313 [00:00<?, ?batch/s]"
      ]
     },
     "metadata": {},
     "output_type": "display_data"
    },
    {
     "name": "stdout",
     "output_type": "stream",
     "text": [
      "Finished Training\n"
     ]
    }
   ],
   "source": [
    "# Training loop\n",
    "epochs = 10\n",
    "for epoch in range(epochs):\n",
    "    model.train()\n",
    "    no_aff_model.train()\n",
    "    running_loss = 0.0\n",
    "    no_aff_running_loss = 0.0\n",
    "    steps = 0.\n",
    "    with tqdm(dataloader, unit=\"batch\") as tepoch:\n",
    "        for inputs, targets in tepoch:\n",
    "            steps += 1.\n",
    "            tepoch.set_description(f\"Epoch {epoch+1}/{epochs}\")\n",
    "\n",
    "            if torch.cuda.is_available():\n",
    "                inputs, targets = inputs.cuda(), targets.cuda()\n",
    "\n",
    "            # train the affine model\n",
    "            optimizer.zero_grad()\n",
    "            no_aff_optimizer.zero_grad()\n",
    "            outputs = model(inputs)\n",
    "            loss = criterion(outputs, targets)\n",
    "            loss.backward()\n",
    "            optimizer.step()\n",
    "            # train the no-affine model\n",
    "            no_aff_outputs = no_aff_model(inputs)\n",
    "            no_aff_loss = criterion(no_aff_outputs, targets)\n",
    "            no_aff_loss.backward()\n",
    "            no_aff_optimizer.step()\n",
    "            # update the progress bar\n",
    "            running_loss += loss.item()\n",
    "            no_aff_running_loss += no_aff_loss.item()\n",
    "            tepoch.set_postfix(loss=running_loss/steps, no_aff_loss=no_aff_running_loss/steps)\n",
    "\n",
    "print('Finished Training')"
   ]
  },
  {
   "cell_type": "code",
   "execution_count": null,
   "id": "a509e361",
   "metadata": {},
   "outputs": [],
   "source": []
  },
  {
   "cell_type": "markdown",
   "id": "7d99e477-d9a9-48c1-b46e-c0decb40aa2f",
   "metadata": {},
   "source": [
    "### Test"
   ]
  },
  {
   "cell_type": "code",
   "execution_count": 12,
   "id": "e7f3726d",
   "metadata": {},
   "outputs": [],
   "source": [
    "test_dataset = SquareShiftDataset(length=5)  # Generate 5 test examples\n",
    "_ = model.eval(), no_aff_model.eval()"
   ]
  },
  {
   "cell_type": "code",
   "execution_count": 13,
   "id": "aee0b307",
   "metadata": {},
   "outputs": [
    {
     "data": {
      "image/png": "[encoded data removed]",
      "text/plain": [
       "<Figure size 1500x500 with 4 Axes>"
      ]
     },
     "metadata": {},
     "output_type": "display_data"
    },
    {
     "data": {
      "image/png": "[encoded data removed]",
      "text/plain": [
       "<Figure size 1500x500 with 4 Axes>"
      ]
     },
     "metadata": {},
     "output_type": "display_data"
    },
    {
     "data": {
      "image/png": "[encoded data removed]",
      "text/plain": [
       "<Figure size 1500x500 with 4 Axes>"
      ]
     },
     "metadata": {},
     "output_type": "display_data"
    },
    {
     "data": {
      "image/png": "[encoded data removed]",
      "text/plain": [
       "<Figure size 1500x500 with 4 Axes>"
      ]
     },
     "metadata": {},
     "output_type": "display_data"
    },
    {
     "data": {
      "image/png": "[encoded data removed]",
      "text/plain": [
       "<Figure size 1500x500 with 4 Axes>"
      ]
     },
     "metadata": {},
     "output_type": "display_data"
    }
   ],
   "source": [
    "def show_images(images, titles):\n",
    "    n = len(images)\n",
    "    fig, axs = plt.subplots(1, n, figsize=(15, 5))\n",
    "    for i in range(n):\n",
    "        axs[i].imshow(images[i].squeeze().cpu(), cmap='gray')\n",
    "        axs[i].set_title(titles[i])\n",
    "        axs[i].axis('off')\n",
    "    plt.show()\n",
    "\n",
    "for i in range(len(test_dataset)):\n",
    "    x_in, x_out = test_dataset[i]\n",
    "    with torch.no_grad():\n",
    "        model_output = model(x_in.unsqueeze(0).cuda()).squeeze(0)\n",
    "        no_aff_output = no_aff_model(x_in.unsqueeze(0).cuda()).squeeze(0)\n",
    "\n",
    "    show_images([x_in, x_out, model_output, no_aff_output], ['Input', 'Ground Truth', 'Model Output', 'No-Aff Model Output'])"
   ]
  },
  {
   "cell_type": "code",
   "execution_count": null,
   "id": "f0e7eaea-720a-4806-9720-bc438db279a1",
   "metadata": {},
   "outputs": [],
   "source": []
  }
 ],
 "metadata": {
  "kernelspec": {
   "display_name": "Python 3 (ipykernel)",
   "language": "python",
   "name": "python3"
  },
  "language_info": {
   "codemirror_mode": {
    "name": "ipython",
    "version": 3
   },
   "file_extension": ".py",
   "mimetype": "text/x-python",
   "name": "python",
   "nbconvert_exporter": "python",
   "pygments_lexer": "ipython3",
   "version": "3.10.13"
  }
 },
 "nbformat": 4,
 "nbformat_minor": 5
}
